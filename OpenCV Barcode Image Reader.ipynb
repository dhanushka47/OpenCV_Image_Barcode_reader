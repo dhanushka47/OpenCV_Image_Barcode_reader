{
 "cells": [
  {
   "cell_type": "code",
   "execution_count": 1,
   "id": "7e2f0f4a",
   "metadata": {},
   "outputs": [],
   "source": [
    "#created by ElectroBoY    @dhanushkasct1947 github\n",
    "\n",
    "#import lib\n",
    "import cv2\n",
    "from pyzbar import pyzbar\n",
    "\n"
   ]
  },
  {
   "cell_type": "code",
   "execution_count": 2,
   "id": "84340580",
   "metadata": {},
   "outputs": [],
   "source": [
    "#open image\n",
    "img = cv2.imread(\"images/img1.jpg\")"
   ]
  },
  {
   "cell_type": "code",
   "execution_count": null,
   "id": "cdbd2edb",
   "metadata": {},
   "outputs": [
    {
     "name": "stdout",
     "output_type": "stream",
     "text": [
      "644 1413 927 259\n",
      "4796025380024 EAN13\n"
     ]
    }
   ],
   "source": [
    "\n",
    "#start decode\n",
    "gray = cv2.cvtColor(img, cv2.COLOR_BGR2GRAY)    \n",
    "barcodes = pyzbar.decode(gray)\n",
    "for barcode in barcodes : \n",
    "    x,y,w,h = barcode.rect\n",
    "    barData= barcode.data.decode(\"utf-8\")\n",
    "    barType = barcode.type\n",
    "    print(x,y,w,h)  #barcode rec values\n",
    "    print(barData,barType)\n",
    "    cv2.rectangle(img,(x,y),(x+w,y+h),(0,205,0),16,8)\n",
    "    cv2.rectangle(img,(x+100,y-400),(x+1300,y-200),(255,255,255),200,8)\n",
    "    cv2.putText(img,barData,(x+70,y-250),cv2.FONT_HERSHEY_PLAIN,10,(0,0,255),10,30)\n",
    "\n",
    "\n",
    "cv2.imshow(\"Original Image with BarCode\",img)\n",
    "cv2.waitKey(0)\n",
    "cv2.destroyAllWindows()"
   ]
  }
 ],
 "metadata": {
  "kernelspec": {
   "display_name": "Python 3 (ipykernel)",
   "language": "python",
   "name": "python3"
  },
  "language_info": {
   "codemirror_mode": {
    "name": "ipython",
    "version": 3
   },
   "file_extension": ".py",
   "mimetype": "text/x-python",
   "name": "python",
   "nbconvert_exporter": "python",
   "pygments_lexer": "ipython3",
   "version": "3.7.13"
  }
 },
 "nbformat": 4,
 "nbformat_minor": 5
}
